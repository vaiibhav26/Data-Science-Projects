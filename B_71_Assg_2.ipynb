{
 "cells": [
  {
   "cell_type": "code",
   "execution_count": 1,
   "id": "6717d1da",
   "metadata": {},
   "outputs": [],
   "source": [
    "import pandas as pd\n",
    "import numpy as np"
   ]
  },
  {
   "cell_type": "code",
   "execution_count": 5,
   "id": "0ae4b794",
   "metadata": {},
   "outputs": [],
   "source": [
    "data={\n",
    "    \"ID\":[1,2,3,4,5,6,7,8,9,10],\n",
    "    \"Name\":[\"Aniket\",\"Devyani\",\"Rahul\",\"Rohan\",\"Anmol\",\"Aditya\",\"Bhumika\",\"Siddhi\",\"Sarah\",\"Anushka\"],\n",
    "    \"Gender\":[\"M\",\"F\",\"M\",\"M\",\"M\",\"M\",\"M\",\"F\",\"F\",\"F\"],\n",
    "    \"Age\":[21,20,18,17,20,22,25,22,20,19],\n",
    "    \"Class\":[\"First\",\"Second\",\"Third\",\"Fourth\",\"Fourth\",\"Third\",\"Second\",\"First\",\"Third\",\"Second\"],\n",
    "    \"GPA\":[8.2,8.9,5.6,6.4,7.3,7.2,6.5,5.5,9.9,8.6],\n",
    "    \"Score\":[85,95,80,25,56,78,38,67,88,95],\n",
    "    \"Attedance\":[90,95,85,60,55,88,77,29,50,55]\n",
    "}"
   ]
  },
  {
   "cell_type": "code",
   "execution_count": 6,
   "id": "39b6fd2a",
   "metadata": {},
   "outputs": [],
   "source": [
    "df=pd.DataFrame(data)"
   ]
  },
  {
   "cell_type": "code",
   "execution_count": 9,
   "id": "7846c4d1",
   "metadata": {},
   "outputs": [
    {
     "data": {
      "text/plain": [
       "ID           0\n",
       "Name         0\n",
       "Gender       0\n",
       "Age          0\n",
       "Class        0\n",
       "GPA          0\n",
       "Score        0\n",
       "Attedance    0\n",
       "dtype: int64"
      ]
     },
     "execution_count": 9,
     "metadata": {},
     "output_type": "execute_result"
    }
   ],
   "source": [
    "df.isnull().sum()"
   ]
  },
  {
   "cell_type": "code",
   "execution_count": 19,
   "id": "5c0489b0",
   "metadata": {},
   "outputs": [
    {
     "data": {
      "text/html": [
       "<div>\n",
       "<style scoped>\n",
       "    .dataframe tbody tr th:only-of-type {\n",
       "        vertical-align: middle;\n",
       "    }\n",
       "\n",
       "    .dataframe tbody tr th {\n",
       "        vertical-align: top;\n",
       "    }\n",
       "\n",
       "    .dataframe thead th {\n",
       "        text-align: right;\n",
       "    }\n",
       "</style>\n",
       "<table border=\"1\" class=\"dataframe\">\n",
       "  <thead>\n",
       "    <tr style=\"text-align: right;\">\n",
       "      <th></th>\n",
       "      <th>ID</th>\n",
       "      <th>Name</th>\n",
       "      <th>Gender</th>\n",
       "      <th>Age</th>\n",
       "      <th>Class</th>\n",
       "      <th>GPA</th>\n",
       "      <th>Score</th>\n",
       "      <th>Attedance</th>\n",
       "    </tr>\n",
       "  </thead>\n",
       "  <tbody>\n",
       "    <tr>\n",
       "      <th>0</th>\n",
       "      <td>1</td>\n",
       "      <td>Aniket</td>\n",
       "      <td>M</td>\n",
       "      <td>21</td>\n",
       "      <td>First</td>\n",
       "      <td>8.2</td>\n",
       "      <td>85</td>\n",
       "      <td>90</td>\n",
       "    </tr>\n",
       "    <tr>\n",
       "      <th>1</th>\n",
       "      <td>2</td>\n",
       "      <td>Devyani</td>\n",
       "      <td>F</td>\n",
       "      <td>20</td>\n",
       "      <td>Second</td>\n",
       "      <td>8.9</td>\n",
       "      <td>95</td>\n",
       "      <td>95</td>\n",
       "    </tr>\n",
       "    <tr>\n",
       "      <th>2</th>\n",
       "      <td>3</td>\n",
       "      <td>Rahul</td>\n",
       "      <td>M</td>\n",
       "      <td>18</td>\n",
       "      <td>Third</td>\n",
       "      <td>5.6</td>\n",
       "      <td>80</td>\n",
       "      <td>85</td>\n",
       "    </tr>\n",
       "    <tr>\n",
       "      <th>3</th>\n",
       "      <td>4</td>\n",
       "      <td>Rohan</td>\n",
       "      <td>M</td>\n",
       "      <td>17</td>\n",
       "      <td>Fourth</td>\n",
       "      <td>6.4</td>\n",
       "      <td>25</td>\n",
       "      <td>60</td>\n",
       "    </tr>\n",
       "    <tr>\n",
       "      <th>4</th>\n",
       "      <td>5</td>\n",
       "      <td>Anmol</td>\n",
       "      <td>M</td>\n",
       "      <td>20</td>\n",
       "      <td>Fourth</td>\n",
       "      <td>7.3</td>\n",
       "      <td>56</td>\n",
       "      <td>55</td>\n",
       "    </tr>\n",
       "  </tbody>\n",
       "</table>\n",
       "</div>"
      ],
      "text/plain": [
       "   ID     Name Gender  Age   Class  GPA  Score  Attedance\n",
       "0   1   Aniket      M   21   First  8.2     85         90\n",
       "1   2  Devyani      F   20  Second  8.9     95         95\n",
       "2   3    Rahul      M   18   Third  5.6     80         85\n",
       "3   4    Rohan      M   17  Fourth  6.4     25         60\n",
       "4   5    Anmol      M   20  Fourth  7.3     56         55"
      ]
     },
     "execution_count": 19,
     "metadata": {},
     "output_type": "execute_result"
    }
   ],
   "source": [
    "df.head()"
   ]
  },
  {
   "cell_type": "markdown",
   "id": "7a7bb0de",
   "metadata": {},
   "source": [
    "## Scan All Variable For Missing Values and Missing Consistencies"
   ]
  },
  {
   "cell_type": "code",
   "execution_count": 11,
   "id": "3bb411ff",
   "metadata": {},
   "outputs": [
    {
     "data": {
      "text/plain": [
       "ID           0\n",
       "Name         0\n",
       "Gender       0\n",
       "Age          0\n",
       "Class        0\n",
       "GPA          0\n",
       "Score        0\n",
       "Attedance    0\n",
       "dtype: int64"
      ]
     },
     "execution_count": 11,
     "metadata": {},
     "output_type": "execute_result"
    }
   ],
   "source": [
    "df.isnull().sum()"
   ]
  },
  {
   "cell_type": "code",
   "execution_count": 12,
   "id": "ac051942",
   "metadata": {},
   "outputs": [
    {
     "data": {
      "text/plain": [
       "ID             int64\n",
       "Name          object\n",
       "Gender        object\n",
       "Age            int64\n",
       "Class         object\n",
       "GPA          float64\n",
       "Score          int64\n",
       "Attedance      int64\n",
       "dtype: object"
      ]
     },
     "execution_count": 12,
     "metadata": {},
     "output_type": "execute_result"
    }
   ],
   "source": [
    "df.dtypes"
   ]
  },
  {
   "cell_type": "code",
   "execution_count": 15,
   "id": "d7805bf6",
   "metadata": {},
   "outputs": [
    {
     "data": {
      "text/plain": [
       "M    6\n",
       "F    4\n",
       "Name: Gender, dtype: int64"
      ]
     },
     "execution_count": 15,
     "metadata": {},
     "output_type": "execute_result"
    }
   ],
   "source": [
    "df[\"Gender\"].value_counts()"
   ]
  },
  {
   "cell_type": "markdown",
   "id": "834a9386",
   "metadata": {},
   "source": [
    "## Checked Inconsistencies in Categorical Data"
   ]
  },
  {
   "cell_type": "markdown",
   "id": "a853f4c7",
   "metadata": {},
   "source": [
    "# <hr>"
   ]
  },
  {
   "cell_type": "code",
   "execution_count": 16,
   "id": "92b46c58",
   "metadata": {},
   "outputs": [
    {
     "data": {
      "text/plain": [
       "count    10.000000\n",
       "mean     70.700000\n",
       "std      24.064958\n",
       "min      25.000000\n",
       "25%      58.750000\n",
       "50%      79.000000\n",
       "75%      87.250000\n",
       "max      95.000000\n",
       "Name: Score, dtype: float64"
      ]
     },
     "execution_count": 16,
     "metadata": {},
     "output_type": "execute_result"
    }
   ],
   "source": [
    "df[\"Score\"].describe()"
   ]
  },
  {
   "cell_type": "code",
   "execution_count": 17,
   "id": "a8316d04",
   "metadata": {},
   "outputs": [
    {
     "data": {
      "text/html": [
       "<div>\n",
       "<style scoped>\n",
       "    .dataframe tbody tr th:only-of-type {\n",
       "        vertical-align: middle;\n",
       "    }\n",
       "\n",
       "    .dataframe tbody tr th {\n",
       "        vertical-align: top;\n",
       "    }\n",
       "\n",
       "    .dataframe thead th {\n",
       "        text-align: right;\n",
       "    }\n",
       "</style>\n",
       "<table border=\"1\" class=\"dataframe\">\n",
       "  <thead>\n",
       "    <tr style=\"text-align: right;\">\n",
       "      <th></th>\n",
       "      <th>ID</th>\n",
       "      <th>Age</th>\n",
       "      <th>GPA</th>\n",
       "      <th>Score</th>\n",
       "      <th>Attedance</th>\n",
       "    </tr>\n",
       "  </thead>\n",
       "  <tbody>\n",
       "    <tr>\n",
       "      <th>count</th>\n",
       "      <td>10.00000</td>\n",
       "      <td>10.000000</td>\n",
       "      <td>10.000000</td>\n",
       "      <td>10.000000</td>\n",
       "      <td>10.000000</td>\n",
       "    </tr>\n",
       "    <tr>\n",
       "      <th>mean</th>\n",
       "      <td>5.50000</td>\n",
       "      <td>20.400000</td>\n",
       "      <td>7.410000</td>\n",
       "      <td>70.700000</td>\n",
       "      <td>68.400000</td>\n",
       "    </tr>\n",
       "    <tr>\n",
       "      <th>std</th>\n",
       "      <td>3.02765</td>\n",
       "      <td>2.270585</td>\n",
       "      <td>1.463975</td>\n",
       "      <td>24.064958</td>\n",
       "      <td>21.675383</td>\n",
       "    </tr>\n",
       "    <tr>\n",
       "      <th>min</th>\n",
       "      <td>1.00000</td>\n",
       "      <td>17.000000</td>\n",
       "      <td>5.500000</td>\n",
       "      <td>25.000000</td>\n",
       "      <td>29.000000</td>\n",
       "    </tr>\n",
       "    <tr>\n",
       "      <th>25%</th>\n",
       "      <td>3.25000</td>\n",
       "      <td>19.250000</td>\n",
       "      <td>6.425000</td>\n",
       "      <td>58.750000</td>\n",
       "      <td>55.000000</td>\n",
       "    </tr>\n",
       "    <tr>\n",
       "      <th>50%</th>\n",
       "      <td>5.50000</td>\n",
       "      <td>20.000000</td>\n",
       "      <td>7.250000</td>\n",
       "      <td>79.000000</td>\n",
       "      <td>68.500000</td>\n",
       "    </tr>\n",
       "    <tr>\n",
       "      <th>75%</th>\n",
       "      <td>7.75000</td>\n",
       "      <td>21.750000</td>\n",
       "      <td>8.500000</td>\n",
       "      <td>87.250000</td>\n",
       "      <td>87.250000</td>\n",
       "    </tr>\n",
       "    <tr>\n",
       "      <th>max</th>\n",
       "      <td>10.00000</td>\n",
       "      <td>25.000000</td>\n",
       "      <td>9.900000</td>\n",
       "      <td>95.000000</td>\n",
       "      <td>95.000000</td>\n",
       "    </tr>\n",
       "  </tbody>\n",
       "</table>\n",
       "</div>"
      ],
      "text/plain": [
       "             ID        Age        GPA      Score  Attedance\n",
       "count  10.00000  10.000000  10.000000  10.000000  10.000000\n",
       "mean    5.50000  20.400000   7.410000  70.700000  68.400000\n",
       "std     3.02765   2.270585   1.463975  24.064958  21.675383\n",
       "min     1.00000  17.000000   5.500000  25.000000  29.000000\n",
       "25%     3.25000  19.250000   6.425000  58.750000  55.000000\n",
       "50%     5.50000  20.000000   7.250000  79.000000  68.500000\n",
       "75%     7.75000  21.750000   8.500000  87.250000  87.250000\n",
       "max    10.00000  25.000000   9.900000  95.000000  95.000000"
      ]
     },
     "execution_count": 17,
     "metadata": {},
     "output_type": "execute_result"
    }
   ],
   "source": [
    "df.describe()"
   ]
  },
  {
   "cell_type": "code",
   "execution_count": 18,
   "id": "78e635c8",
   "metadata": {},
   "outputs": [
    {
     "data": {
      "text/plain": [
       "95    2\n",
       "85    1\n",
       "80    1\n",
       "25    1\n",
       "56    1\n",
       "78    1\n",
       "38    1\n",
       "67    1\n",
       "88    1\n",
       "Name: Score, dtype: int64"
      ]
     },
     "execution_count": 18,
     "metadata": {},
     "output_type": "execute_result"
    }
   ],
   "source": [
    "df[\"Score\"].value_counts()"
   ]
  },
  {
   "cell_type": "code",
   "execution_count": 20,
   "id": "860ac0f4",
   "metadata": {},
   "outputs": [],
   "source": [
    "import matplotlib.pyplot as plt"
   ]
  },
  {
   "cell_type": "code",
   "execution_count": 26,
   "id": "2eb41f5c",
   "metadata": {},
   "outputs": [
    {
     "data": {
      "text/plain": [
       "{'whiskers': [<matplotlib.lines.Line2D at 0x1d9a5dd4d60>,\n",
       "  <matplotlib.lines.Line2D at 0x1d9a5de7070>],\n",
       " 'caps': [<matplotlib.lines.Line2D at 0x1d9a5de7340>,\n",
       "  <matplotlib.lines.Line2D at 0x1d9a5de7610>],\n",
       " 'boxes': [<matplotlib.lines.Line2D at 0x1d9a5dd4a90>],\n",
       " 'medians': [<matplotlib.lines.Line2D at 0x1d9a5de78e0>],\n",
       " 'fliers': [<matplotlib.lines.Line2D at 0x1d9a5de7bb0>],\n",
       " 'means': []}"
      ]
     },
     "execution_count": 26,
     "metadata": {},
     "output_type": "execute_result"
    },
    {
     "data": {
      "image/png": "[encoded data removed]",
      "text/plain": [
       "<Figure size 640x480 with 1 Axes>"
      ]
     },
     "metadata": {},
     "output_type": "display_data"
    }
   ],
   "source": [
    "plt.boxplot(data[\"Score\"])"
   ]
  },
  {
   "cell_type": "code",
   "execution_count": 30,
   "id": "b3bbaa94",
   "metadata": {},
   "outputs": [
    {
     "data": {
      "text/plain": [
       "Text(0, 0.5, 'Attedance')"
      ]
     },
     "execution_count": 30,
     "metadata": {},
     "output_type": "execute_result"
    },
    {
     "data": {
      "image/png": "[encoded data removed]",
      "text/plain": [
       "<Figure size 640x480 with 1 Axes>"
      ]
     },
     "metadata": {},
     "output_type": "display_data"
    }
   ],
   "source": [
    "plt.scatter(data[\"Score\"],data[\"Attedance\"])\n",
    "plt.xlabel(\"Score\")\n",
    "plt.ylabel(\"Attedance\")"
   ]
  },
  {
   "cell_type": "code",
   "execution_count": 31,
   "id": "36068e15",
   "metadata": {},
   "outputs": [],
   "source": [
    "import seaborn as sbn"
   ]
  },
  {
   "cell_type": "code",
   "execution_count": 36,
   "id": "6837d739",
   "metadata": {},
   "outputs": [
    {
     "name": "stderr",
     "output_type": "stream",
     "text": [
      "C:\\Users\\Admin\\anaconda3\\lib\\site-packages\\seaborn\\distributions.py:2619: FutureWarning: `distplot` is a deprecated function and will be removed in a future version. Please adapt your code to use either `displot` (a figure-level function with similar flexibility) or `histplot` (an axes-level function for histograms).\n",
      "  warnings.warn(msg, FutureWarning)\n"
     ]
    },
    {
     "data": {
      "text/plain": [
       "<AxesSubplot:xlabel='Score', ylabel='Density'>"
      ]
     },
     "execution_count": 36,
     "metadata": {},
     "output_type": "execute_result"
    },
    {
     "data": {
      "image/png": "[encoded data removed]",
      "text/plain": [
       "<Figure size 640x480 with 1 Axes>"
      ]
     },
     "metadata": {},
     "output_type": "display_data"
    }
   ],
   "source": [
    "sbn.distplot(np.log(df[\"Score\"]))"
   ]
  },
  {
   "cell_type": "code",
   "execution_count": 39,
   "id": "3e5bcf2b",
   "metadata": {},
   "outputs": [
    {
     "data": {
      "text/plain": [
       "0    4.442651\n",
       "1    4.553877\n",
       "2    4.382027\n",
       "3    3.218876\n",
       "4    4.025352\n",
       "5    4.356709\n",
       "6    3.637586\n",
       "7    4.204693\n",
       "8    4.477337\n",
       "9    4.553877\n",
       "Name: Score, dtype: float64"
      ]
     },
     "execution_count": 39,
     "metadata": {},
     "output_type": "execute_result"
    }
   ],
   "source": [
    "np.log(df[\"Score\"])"
   ]
  },
  {
   "cell_type": "code",
   "execution_count": 40,
   "id": "3fb7ab2f",
   "metadata": {},
   "outputs": [
    {
     "data": {
      "text/plain": [
       "(array([1., 1., 0., 0., 1., 0., 1., 2., 1., 3.]),\n",
       " array([25., 32., 39., 46., 53., 60., 67., 74., 81., 88., 95.]),\n",
       " <BarContainer object of 10 artists>)"
      ]
     },
     "execution_count": 40,
     "metadata": {},
     "output_type": "execute_result"
    },
    {
     "data": {
      "image/png": "[encoded data removed]",
      "text/plain": [
       "<Figure size 640x480 with 1 Axes>"
      ]
     },
     "metadata": {},
     "output_type": "display_data"
    }
   ],
   "source": [
    "plt.hist(df[\"Score\"])"
   ]
  },
  {
   "cell_type": "code",
   "execution_count": 41,
   "id": "a621f09c",
   "metadata": {},
   "outputs": [],
   "source": [
    "import scipy.stats as stat"
   ]
  },
  {
   "cell_type": "code",
   "execution_count": 43,
   "id": "51555c5d",
   "metadata": {},
   "outputs": [],
   "source": [
    "df[\"Log test Score\"]=np.log(df[\"Score\"])"
   ]
  },
  {
   "cell_type": "code",
   "execution_count": 45,
   "id": "7fa88766",
   "metadata": {},
   "outputs": [
    {
     "data": {
      "text/plain": [
       "((array([-1.49876728, -0.98494667, -0.64703803, -0.37109819, -0.12121409,\n",
       "          0.12121409,  0.37109819,  0.64703803,  0.98494667,  1.49876728]),\n",
       "  array([3.21887582, 3.63758616, 4.02535169, 4.20469262, 4.35670883,\n",
       "         4.38202663, 4.44265126, 4.47733681, 4.55387689, 4.55387689])),\n",
       " (0.4339524878807603, 4.185298361025377, 0.9025314449575333))"
      ]
     },
     "execution_count": 45,
     "metadata": {},
     "output_type": "execute_result"
    },
    {
     "data": {
      "image/png": "[encoded data removed]",
      "text/plain": [
       "<Figure size 640x480 with 1 Axes>"
      ]
     },
     "metadata": {},
     "output_type": "display_data"
    }
   ],
   "source": [
    "stat.probplot(df[\"Log test Score\"],plot=plt)"
   ]
  },
  {
   "cell_type": "code",
   "execution_count": null,
   "id": "797d31a7",
   "metadata": {},
   "outputs": [],
   "source": []
  }
 ],
 "metadata": {
  "kernelspec": {
   "display_name": "Python 3 (ipykernel)",
   "language": "python",
   "name": "python3"
  },
  "language_info": {
   "codemirror_mode": {
    "name": "ipython",
    "version": 3
   },
   "file_extension": ".py",
   "mimetype": "text/x-python",
   "name": "python",
   "nbconvert_exporter": "python",
   "pygments_lexer": "ipython3",
   "version": "3.9.13"
  }
 },
 "nbformat": 4,
 "nbformat_minor": 5
}
